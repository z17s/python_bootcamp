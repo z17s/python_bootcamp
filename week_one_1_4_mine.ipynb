{
  "nbformat": 4,
  "nbformat_minor": 0,
  "metadata": {
    "colab": {
      "name": "week_one_1.4_mine.ipynb",
      "provenance": [],
      "collapsed_sections": [],
      "authorship_tag": "ABX9TyOvimddLYIZ7mjfGjQh4Ntd",
      "include_colab_link": true
    },
    "kernelspec": {
      "name": "python3",
      "display_name": "Python 3"
    },
    "language_info": {
      "name": "python"
    }
  },
  "cells": [
    {
      "cell_type": "markdown",
      "metadata": {
        "id": "view-in-github",
        "colab_type": "text"
      },
      "source": [
        "<a href=\"https://colab.research.google.com/github/z17s/python_bootcamp/blob/main/week_one_1_4_mine.ipynb\" target=\"_parent\"><img src=\"https://colab.research.google.com/assets/colab-badge.svg\" alt=\"Open In Colab\"/></a>"
      ]
    },
    {
      "cell_type": "markdown",
      "source": [
        "#list"
      ],
      "metadata": {
        "id": "4JPHf-8uEP8q"
      }
    },
    {
      "cell_type": "code",
      "execution_count": null,
      "metadata": {
        "id": "MzFxj6zieOt8",
        "colab": {
          "base_uri": "https://localhost:8080/"
        },
        "outputId": "2e0eaa04-e5ee-4b4c-897c-9f9662c55ed5"
      },
      "outputs": [
        {
          "output_type": "stream",
          "name": "stdout",
          "text": [
            "['caleb', 'you', 'jimmy', ['hello'], 5]\n"
          ]
        }
      ],
      "source": [
        "data=[\"caleb\",\"you\"]\n",
        "\n",
        "data.append(\"jimmy\")\n",
        "data.append([\"hello\"])\n",
        "data.append(5)\n",
        "print(data)"
      ]
    },
    {
      "cell_type": "code",
      "source": [
        "data=[\"caleb\",\"jimmy\",\"samantha\",\"monica\"]\n",
        "\n",
        "print(data[1:4:2])"
      ],
      "metadata": {
        "colab": {
          "base_uri": "https://localhost:8080/"
        },
        "id": "Bmh437UIissa",
        "outputId": "54eb2bfe-5de4-480b-b24e-8149eef5c9c4"
      },
      "execution_count": null,
      "outputs": [
        {
          "output_type": "stream",
          "name": "stdout",
          "text": [
            "['jimmy', 'monica']\n"
          ]
        }
      ]
    },
    {
      "cell_type": "markdown",
      "source": [
        "# dictionary and sets"
      ],
      "metadata": {
        "id": "paZE9i8KEfm9"
      }
    },
    {
      "cell_type": "code",
      "source": [
        "#sets\n",
        "data={\"caleb\",\"jimmy\",\"samantha\",\"monica\",\"caleb\"}\n",
        "print(data)"
      ],
      "metadata": {
        "colab": {
          "base_uri": "https://localhost:8080/"
        },
        "id": "SR-uv8QXEtE3",
        "outputId": "53a8678f-3aa0-4031-94eb-24100d6c9612"
      },
      "execution_count": null,
      "outputs": [
        {
          "output_type": "stream",
          "name": "stdout",
          "text": [
            "{'caleb', 'monica', 'samantha', 'jimmy'}\n"
          ]
        }
      ]
    },
    {
      "cell_type": "code",
      "source": [
        "#dictionary\n",
        "data_dictionary={\n",
        "    \"caleb\":5,\n",
        "    \"jimmy\":10,\n",
        "    \"samantha\":12,\n",
        "    \"monica\":20,\n",
        "    \"caleb\":4\n",
        "}\n",
        "\n",
        "print(data_dictionary.get('caleb'))\n",
        "print(data_dictionary)"
      ],
      "metadata": {
        "colab": {
          "base_uri": "https://localhost:8080/"
        },
        "id": "MGe9sM9lGMxE",
        "outputId": "3b61e063-0551-499e-f3ce-2a8a684a3467"
      },
      "execution_count": null,
      "outputs": [
        {
          "output_type": "stream",
          "name": "stdout",
          "text": [
            "4\n",
            "{'caleb': 4, 'jimmy': 10, 'samantha': 12, 'monica': 20}\n"
          ]
        }
      ]
    }
  ]
}