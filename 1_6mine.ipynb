{
  "nbformat": 4,
  "nbformat_minor": 0,
  "metadata": {
    "colab": {
      "name": "1.6mine.ipynb",
      "provenance": [],
      "collapsed_sections": [],
      "authorship_tag": "ABX9TyMiu5CNyulHwwpDXK5t5r4Q",
      "include_colab_link": true
    },
    "kernelspec": {
      "name": "python3",
      "display_name": "Python 3"
    },
    "language_info": {
      "name": "python"
    }
  },
  "cells": [
    {
      "cell_type": "markdown",
      "metadata": {
        "id": "view-in-github",
        "colab_type": "text"
      },
      "source": [
        "<a href=\"https://colab.research.google.com/github/z17s/python_bootcamp/blob/main/1_6mine.ipynb\" target=\"_parent\"><img src=\"https://colab.research.google.com/assets/colab-badge.svg\" alt=\"Open In Colab\"/></a>"
      ]
    },
    {
      "cell_type": "markdown",
      "source": [
        "# guessing game\n",
        "generate a ramdom number - ramdom module\n",
        "\n",
        "do while-python doesn't have this build in\n",
        "\n",
        "do something once-possibly repeat it\n",
        "\n",
        "ask us for a number. if we get it wrong guess again\n",
        "\n",
        "logic for right/wrong: guessed==correct value "
      ],
      "metadata": {
        "id": "nWhfd3G0DMox"
      }
    },
    {
      "cell_type": "code",
      "execution_count": null,
      "metadata": {
        "colab": {
          "base_uri": "https://localhost:8080/"
        },
        "id": "TWNNzgSSCRcy",
        "outputId": "7d9f0097-5fc6-4085-df4f-601c6a5d0ec4"
      },
      "outputs": [
        {
          "output_type": "stream",
          "name": "stdout",
          "text": [
            "guess a number between 0 and 100.\n",
            "44\n",
            "guess lower\n",
            "32\n",
            "guess lower\n",
            "12\n",
            "guess lower\n",
            "4\n",
            "guess higher\n",
            "6\n",
            "guess higher\n",
            "8\n",
            "guess lower\n",
            "7\n",
            "you win\n"
          ]
        }
      ],
      "source": [
        "from random import randint\n",
        "low=0\n",
        "high=100\n",
        "correct=randint(low,high)\n",
        "print(f\"guess a number between {low} and {high}.\")\n",
        "\n",
        "while True:\n",
        "  guess=int(input())\n",
        "  \n",
        "  if guess<correct:\n",
        "    print(\"guess higher\")\n",
        "  elif guess>correct:\n",
        "    print(\"guess lower\")\n",
        "  else:\n",
        "    print(\"you win\")\n",
        "    break"
      ]
    }
  ]
}